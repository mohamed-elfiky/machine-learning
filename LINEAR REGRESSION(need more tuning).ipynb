{
 "cells": [
  {
   "cell_type": "code",
   "execution_count": 291,
   "metadata": {},
   "outputs": [],
   "source": [
    "import numpy as np\n",
    "%matplotlib inline\n",
    "import matplotlib.pyplot as plt"
   ]
  },
  {
   "cell_type": "code",
   "execution_count": 292,
   "metadata": {},
   "outputs": [],
   "source": [
    "def load_dataset(filename):\n",
    "    return np.loadtxt(filename)"
   ]
  },
  {
   "cell_type": "code",
   "execution_count": 293,
   "metadata": {},
   "outputs": [],
   "source": [
    "def plot_dataset(dataset):\n",
    "    X = dataset[:,0]\n",
    "    Y = dataset[:,1]\n",
    "   # plt.scatter(X,Y)"
   ]
  },
  {
   "cell_type": "code",
   "execution_count": 294,
   "metadata": {},
   "outputs": [],
   "source": [
    "dataset = load_dataset('ex1data1.txt')\n",
    "#plot_dataset(dataset)"
   ]
  },
  {
   "cell_type": "code",
   "execution_count": 329,
   "metadata": {},
   "outputs": [],
   "source": [
    "def split_dataset(dataset,split_ratio):\n",
    "    #randomizing the dataset to ensure same distribution across train , dev and test sets   \n",
    "    np.random.seed(42)\n",
    "    shuffled_dataset = np.random.permutation(len(dataset))\n",
    "   \n",
    "    #split_ratio : a dictionary with ratios in this cas 60 20 20\n",
    "    dev_ratio   = split_ratio[\"dev_ratio\"  ]\n",
    "    train_ratio = split_ratio[\"train_ratio\"]\n",
    "    test_ratio  = split_ratio[\"test_ratio\" ]\n",
    "   \n",
    "    train_set = np.take(dataset,shuffled_dataset[ :int(test_ratio*len(dataset))],axis=0)\n",
    "    dev_set   = np.take(dataset,shuffled_dataset[len(train_set):len(train_set)+int(dev_ratio*len(dataset)) ],axis=0)\n",
    "    test_set  = np.take(dataset,shuffled_dataset[len(train_set)+len(dev_set):],axis=0)\n",
    "    return train_set , dev_set ,test_set"
   ]
  },
  {
   "cell_type": "code",
   "execution_count": 330,
   "metadata": {},
   "outputs": [],
   "source": [
    "split_ratio = {\"dev_ratio\" :.2 , \"train_ratio\" :.2 , \"test_ratio\" : .6 }\n",
    "train_set , dev_set ,test_set = split_dataset(dataset,split_ratio)"
   ]
  },
  {
   "cell_type": "code",
   "execution_count": 331,
   "metadata": {},
   "outputs": [
    {
     "name": "stdout",
     "output_type": "stream",
     "text": [
      "[[21.279   17.929  ]\n",
      " [ 5.4069   0.55657]\n",
      " [ 5.3054   1.9869 ]\n",
      " [ 6.4296   3.6518 ]\n",
      " [ 5.1884   0.20421]\n",
      " [ 9.7687   7.5435 ]\n",
      " [18.959   17.054  ]\n",
      " [11.708    5.3854 ]\n",
      " [ 5.7107   3.2522 ]\n",
      " [ 6.1101  17.592  ]\n",
      " [ 6.5894   5.9966 ]\n",
      " [ 6.5479   0.29678]\n",
      " [ 5.8014   1.844  ]\n",
      " [12.828   13.501  ]\n",
      " [ 7.8247   6.7318 ]\n",
      " [ 5.8598   6.8233 ]\n",
      " [ 5.4901   4.263  ]\n",
      " [ 5.734    3.1551 ]\n",
      " [ 5.0594   2.8214 ]\n",
      " [ 7.2259   3.3411 ]\n",
      " [ 5.5416   1.0179 ]\n",
      " [10.136    6.6799 ]\n",
      " [ 5.4994   1.0173 ]\n",
      " [ 5.3794   3.5129 ]\n",
      " [ 6.3534   5.4974 ]\n",
      " [ 5.8918   1.8495 ]\n",
      " [ 5.0546   3.8166 ]\n",
      " [ 5.7292   0.47953]\n",
      " [14.164   15.505  ]\n",
      " [ 7.2182   4.8852 ]\n",
      " [13.394    9.0551 ]\n",
      " [ 5.2524  -1.22   ]\n",
      " [13.176   14.692  ]\n",
      " [ 6.002    0.92695]\n",
      " [ 8.3829  11.886  ]\n",
      " [ 7.0931   1.0463 ]\n",
      " [20.341   20.992  ]\n",
      " [ 7.9334   4.5623 ]\n",
      " [ 6.3654   5.3048 ]\n",
      " [ 6.0062   1.2784 ]\n",
      " [ 8.2111   6.5426 ]\n",
      " [ 8.5781  12.     ]\n",
      " [ 6.3589  -1.4211 ]\n",
      " [10.957    7.0467 ]\n",
      " [ 7.0708   5.3893 ]\n",
      " [ 5.1077   2.0576 ]\n",
      " [18.945   22.638  ]\n",
      " [ 7.6031   4.9981 ]\n",
      " [ 8.4084   7.2258 ]\n",
      " [ 5.5649   3.0825 ]\n",
      " [ 7.0032  11.854  ]\n",
      " [ 5.1301   0.56077]\n",
      " [12.836   10.117  ]\n",
      " [ 6.4862   6.5987 ]\n",
      " [ 7.5386   3.8845 ]\n",
      " [ 7.4764   4.3483 ]\n",
      " [10.274    6.7526 ]\n",
      " [ 8.0959   4.1164 ]]\n"
     ]
    },
    {
     "data": {
      "image/png": "[encoded data removed]",
      "text/plain": [
       "<Figure size 432x288 with 1 Axes>"
      ]
     },
     "metadata": {
      "needs_background": "light"
     },
     "output_type": "display_data"
    }
   ],
   "source": [
    "\n",
    "plt.scatter(dev_set[:,0],dev_set[:,1] )\n",
    "plt.scatter(test_set[:,0],test_set[:,1] )\n",
    "print(train_set)"
   ]
  },
  {
   "cell_type": "code",
   "execution_count": 332,
   "metadata": {},
   "outputs": [],
   "source": [
    "def normalize_input(train_set):\n",
    "    m = len(train_set)\n",
    "    X    =  train_set[:,0]\n",
    "    mean =  (1./m)*np.sum(X)\n",
    "    X    =  X-mean  \n",
    "    var  =  (1./m)*np.sum(X**2)\n",
    "    return X/var"
   ]
  },
  {
   "cell_type": "code",
   "execution_count": 356,
   "metadata": {},
   "outputs": [],
   "source": [
    "def compute_cost(Y_par,Y) :\n",
    "    m = len(Y)\n",
    "    cost = (1/(2*m))*np.sum(np.square(Y_par-Y))\n",
    "    return cost"
   ]
  },
  {
   "cell_type": "code",
   "execution_count": 357,
   "metadata": {},
   "outputs": [],
   "source": [
    "def weight_init(shape):\n",
    "    W = np.zeros((shape,1))\n",
    "    return W \n"
   ]
  },
  {
   "cell_type": "code",
   "execution_count": 358,
   "metadata": {},
   "outputs": [],
   "source": [
    "def ubdate_weights(W,dW,learning_rate):\n",
    "    W -= dW*learning_rate \n",
    "    return W"
   ]
  },
  {
   "cell_type": "code",
   "execution_count": 367,
   "metadata": {},
   "outputs": [],
   "source": [
    "def gradient_decent(train_set,learning_rate,epochs,lambd = None) :\n",
    "   \n",
    "    X =np.expand_dims(train_set[:,train_set.shape[1]-2],axis = 1)\n",
    "    Y = np.expand_dims(train_set[:,train_set.shape[1]-1],axis = 1)\n",
    "    X =np.concatenate([np.ones((X.shape[0],1)),X],axis =1 )\n",
    "  \n",
    "    cost_history = []\n",
    "    W = weight_init(X.shape[1])\n",
    "    m = len(train_set)\n",
    "    for i in range(epochs):\n",
    "    \n",
    "        Z = np.dot(X,W)\n",
    "\n",
    "        \n",
    "        dW  = (1./m)*np.dot(X.T,Z-Y)\n",
    "        \n",
    "        ubdate_weights(W,dW,learning_rate)\n",
    "        \n",
    "        cost_history.append(compute_cost(Z,Y))\n",
    "     \n",
    "    return W , cost_history\n",
    "    "
   ]
  },
  {
   "cell_type": "code",
   "execution_count": 375,
   "metadata": {},
   "outputs": [
    {
     "name": "stdout",
     "output_type": "stream",
     "text": [
      "[[-3.63029144]\n",
      " [ 1.16636235]]\n"
     ]
    },
    {
     "data": {
      "image/png": "[encoded data removed]",
      "text/plain": [
       "<Figure size 720x432 with 1 Axes>"
      ]
     },
     "metadata": {
      "needs_background": "light"
     },
     "output_type": "display_data"
    }
   ],
   "source": [
    "W, cost = gradient_decent(dataset,.01,1500,lambd = None)\n",
    "plt.figure(figsize=(10,6))\n",
    "plt.plot(cost)\n",
    "plt.xlim(xmin=0)\n",
    "plt.ylim(ymax=7)\n",
    "plt.ylabel('Cost')\n",
    "plt.xlabel('Epochs');\n",
    "print (W)"
   ]
  },
  {
   "cell_type": "code",
   "execution_count": 381,
   "metadata": {},
   "outputs": [],
   "source": [
    "def dev_set_eval(dev_set,W):\n",
    "    X=np.expand_dims(dev_set[:,dev_set.shape[1]-2],axis = 1)\n",
    "    Y = np.expand_dims(dev_set[:,dev_set.shape[1]-1],axis = 1)\n",
    "    X =np.concatenate([np.ones((X.shape[0],1)),X],axis =1 )\n",
    "    Z=np.dot(X,W)\n",
    "   #print( ' Z={}  Y = {}  error = {}'.format(Z,Y,Z-Y) )\n",
    "    error = np.sum((abs(Z-Y)))\n",
    "    print (error)"
   ]
  },
  {
   "cell_type": "code",
   "execution_count": 382,
   "metadata": {
    "scrolled": true
   },
   "outputs": [
    {
     "name": "stdout",
     "output_type": "stream",
     "text": [
      "214.44719174406603\n"
     ]
    }
   ],
   "source": [
    "dev_set_eval(dataset,W)"
   ]
  },
  {
   "cell_type": "code",
   "execution_count": null,
   "metadata": {},
   "outputs": [],
   "source": []
  }
 ],
 "metadata": {
  "kernelspec": {
   "display_name": "Python 3",
   "language": "python",
   "name": "python3"
  },
  "language_info": {
   "codemirror_mode": {
    "name": "ipython",
    "version": 3
   },
   "file_extension": ".py",
   "mimetype": "text/x-python",
   "name": "python",
   "nbconvert_exporter": "python",
   "pygments_lexer": "ipython3",
   "version": "3.7.0"
  }
 },
 "nbformat": 4,
 "nbformat_minor": 2
}
